{
 "cells": [
  {
   "cell_type": "markdown",
   "id": "083a6351",
   "metadata": {},
   "source": [
    "<h1 align=\"center\">Essaddek Othmane</h1>\n"
   ]
  },
  {
   "cell_type": "markdown",
   "id": "79366950",
   "metadata": {},
   "source": [
    "# Partie I: Calcul d'integral par la methode Monte Carlo\n",
    "On va s’intéresser dans cette partie au calcul de l’intégral suivant:\n",
    "$$I=\\int_{0}^{1} cos(x^{2})e^{-x} \\,dx$$\n",
    "Pour cela, on va utiliser deux méthodes pour approcher l’intégral, que l'on peut aussi interpréter comme l’Espérance d'une variable aléatoire bien choisis.\n",
    "On peut voir que:\n",
    "$$I=\\int_{0}^{1} cos(x^{2})e^{-x} \\,dx=\\mathbb{E}[cos(U^{2})e^{-U}]$$\n",
    "Ou $U\\sim U([0,1])$\n",
    "\n",
    "Une manière équivalente est:\n",
    "$$I=\\int_{0}^{1} cos(x^{2})e^{-x} \\,dx=\\mathbb{E}[cos(X^{2})\\textbf{1}_{[0,1]}(X)]$$\n",
    "Ou $X\\sim exp(1)$\n",
    "\n",
    "## Estimation selon la loi uniforme\n",
    "Grace a la loi des grands nombres, on peut approcher $I$ par une moyenne empirique, de suivante:  \n",
    "\n",
    "Soient $(U_{1},U_{2},....,U_{n})$ n-variables aleatoires independantes et identiquement distribuées selon $U([0,1])$, on a alors présque sûrement, quand $n$ tends vers l'infini:\n",
    "$$I\\longrightarrow Iu_{n}=\\frac{1}{n}\\sum_{i=1}^{n}f(U_{i})$$\n",
    "Ou $f(u)=cos(u^{2})e^{-u}$ \n",
    "\n",
    "| Estimation |  Erreur | Intervalle de confiance | Variance | cout |\n",
    "|------------|---------|-------------------------|----------|------|\n",
    "|   0.5893   |  0.0007 |      [0.588,0.592]      |   0.05   | 0.67 |\n",
    "\n",
    "\n",
    "### Peut-on diminuer la variance de notre modèle?\n",
    "Oui, effectivement on peut voir, on utilisant le développement limité de la fonction $f$, on obtient que:  \n",
    "$$f(x)=1-x+\\frac{x^{2}}{2}-\\frac{x^{3}}{6}-\\frac{11x^4}{24}+o(x^4)$$\n",
    "On a alors:\n",
    "$$\\mathbb{E}\\left[cos(U^{2})e^{-U}\\right]=\\mathbb{E}\\left[cos(U^{2})e^{-U}-\\left(1-U+\\frac{U^{2}}{2}-\\frac{U^{3}}{6}-\\frac{11U^4}{24}\\right)\\right]+\\mathbb{E}\\left[1-U+\\frac{U^{2}}{2}-\\frac{U^{3}}{6}-\\frac{11U^4}{24}\\right]$$  \n",
    "\n",
    "Par un calcul éxplicite on trouve que $$\\mathbb{E}\\left[1-U+\\frac{U^{2}}{2}-\\frac{U^{3}}{6}-\\frac{11U^4}{24}\\right]=\\frac{64}{5}$$  \n",
    "\n",
    "On va alors approximer par la méthode de Monte Carlo $$\\mathbb{E}\\left[cos(U^{2})e^{-U}-\\left(1-U+\\frac{U^{2}}{2}-\\frac{U^{3}}{6}-\\frac{11U^4}{24}\\right)\\right]$$  \n",
    "pour obtenir une variance moins importante que par la mathode monte carlo naive, et lui rajouter $\\frac{64}{5}$ pour retrouver $I$, et on retrouve les résultats numériques suivants:  \n",
    "\n",
    "| Estimation |  Erreur | Intervalle de confiance | Variance | cout |\n",
    "|------------|---------|-------------------------|----------|------|\n",
    "|   0.590    | 0.00026 |      [0.589,0.590]      |   0.006  | 0.96 |\n",
    "\n",
    "**Remarque:** La variance a diminué d'un facteur de dix, mais le cout a augmenté un peu, \n",
    "\n",
    "## 2. Estimation selon la loi exponentielle  \n",
    "\n",
    "   Le principe reste le même que dans la première partie, pour cela on aura besoin de n-variables aléatoires $(X_1,X_2,....,X_n)$ indépendantes indentiquement distribuées selon la loi $exp(1)$ pour approcher $I$ par la moyenne empirique suivante:\n",
    "   $$Ie_{n}=\\frac{1}{n}\\sum_{i=1}^{n}g(U_{i})$$.  \n",
    "\n",
    "Ou $g(x)=cos(x^{2})\\textbf{1}_{[0,1]}(x)$\n",
    "\n",
    "On va alors simuler ces variables aléatoires en simulant des lois uniformes, et c'est possible en utilisant *la methode de l'inversion de la fonction de repartition* pour générer notre échantillon de loi exponentielle.  \n",
    "  \n",
    "  \n",
    "**Proposistion:** Si $U\\sim\\mathcal{U}([0,1])$, alors $ln(\\frac{1}{U})\\sim exp(1)$.  \n",
    "\n",
    "En appliquant tout ce qui precéde, on retrouve les resultats suivants:  \n",
    "\n",
    "| Estimation |  Erreur | Intervalle de confiance | Variance |  cout |\n",
    "|------------|---------|-------------------------|----------|-------|\n",
    "|   0.591    | 0.00144 |      [0.589,0.593]      |  0.2096  | 1.435 |\n",
    "\n",
    "**Rermarque:** On peut voir que ce n'est pas la mèthode la plus interessante."
   ]
  },
  {
   "cell_type": "code",
   "execution_count": 64,
   "id": "8d92bacb",
   "metadata": {},
   "outputs": [
    {
     "name": "stdout",
     "output_type": "stream",
     "text": [
      "0.5888693121331486 0.5916558909575976\n",
      "0.6864044000000149\n",
      "0.0007108619450124832\n",
      "0.05053247048669308\n",
      "0.5902626015453731\n",
      "#########\n",
      "0.5871760644465016 0.5928555306355645\n",
      "1.450809300000003\n",
      "0.0014488434155772746\n",
      "0.20991472428616237\n",
      "0.5900157975410331\n",
      "#########\n",
      "0.5893029391134615 0.590324839967476\n",
      "1.0140064999999936\n",
      "0.00026068899337100825\n",
      "0.00679587512647896\n",
      "0.5898138895404688\n"
     ]
    }
   ],
   "source": [
    "import numpy as np\n",
    "import matplotlib.pyplot as plt\n",
    "import scipy.stats\n",
    "import time\n",
    "%matplotlib inline\n",
    "%matplotlib inline\n",
    "from math import *\n",
    "from numpy.random import *\n",
    "from numpy.linalg import *\n",
    "from scipy.misc import *\n",
    "\n",
    "n2 = 10**5\n",
    "\n",
    "def f(x):\n",
    "    return np.cos(x**2)*np.exp(-x)\n",
    "\n",
    "def g(x):\n",
    "    return np.cos(x**2)*(x<1 and x>0)\n",
    "\n",
    "def expo(n):\n",
    "    U=[]\n",
    "    for i in range(n):\n",
    "        u=np.random.uniform(0,1)\n",
    "        U.append(-np.log(u))\n",
    "    return(U)\n",
    "\n",
    "debut1 = time.process_time()\n",
    "\n",
    "U = np.random.uniform(0,1,n2)\n",
    "Y = np.zeros(n2)\n",
    "\n",
    "for i in range (n2):\n",
    "    Y[i] = f(U[i]);\n",
    "  \n",
    "\n",
    "estim1 = np.mean(Y)\n",
    "sigma1 = np.std(Y)\n",
    "\n",
    "fin1 = time.process_time()\n",
    "\n",
    "##################################################\n",
    "debut2 = time.process_time()\n",
    "\n",
    "N = expo(n2)\n",
    "Z = np.zeros(n2)\n",
    "\n",
    "for i in range (n2):\n",
    "    Z[i] = g(N[i])\n",
    "\n",
    "estim2 = np.mean(Z)\n",
    "sigma2 = np.std(Z)\n",
    "\n",
    "fin2 = time.process_time()\n",
    "\n",
    "debut3 = time.process_time()\n",
    "\n",
    "U3 = np.random.uniform(0,1,n2)\n",
    "Y3 = np.zeros(n2)\n",
    "\n",
    "for i in range (n2):\n",
    "    Y3[i] = f(U3[i])-(1-U3[i]+0.5*U3[i]**2-(1/6)*U3[i]**3-(11/24)*U3[i]**4)\n",
    "  \n",
    "estim3 = np.mean(Y3)+(15-11/5)/24\n",
    "sigma3 = np.std(Y3)\n",
    "\n",
    "fin3 = time.process_time()\n",
    "\n",
    "##################################################\n",
    "\n",
    "\n",
    "quantile = 1.96\n",
    "\n",
    "err1 = sigma1/np.sqrt(n2)\n",
    "cout1 = fin1 - debut1\n",
    "print(estim1 - quantile*err1, estim1 + quantile*err1)\n",
    "print(cout1)\n",
    "print(err1)\n",
    "print(sigma1**2)\n",
    "print(estim1)\n",
    "\n",
    "print('#########')\n",
    "\n",
    "err2 = sigma2/np.sqrt(n2)\n",
    "cout2 = fin2 - debut2\n",
    "print(estim2 - quantile*err2, estim2 + quantile*err2)\n",
    "print(cout2)\n",
    "print(err2)\n",
    "print(sigma2**2)\n",
    "print(estim2)\n",
    "\n",
    "print('#########')\n",
    "\n",
    "err3 = sigma3/np.sqrt(n2)\n",
    "cout3 = fin3 - debut3\n",
    "print(estim3 - quantile*err3, estim3 + quantile*err3)\n",
    "print(cout3)\n",
    "print(err3)\n",
    "print(sigma3**2)\n",
    "print(estim3)\n"
   ]
  },
  {
   "cell_type": "markdown",
   "id": "fd68a787",
   "metadata": {},
   "source": [
    "## Exemple de méthode Monte Carlo pour la finace(*Modèle de Black-scholes*)  \n",
    "\n",
    "On suppose que $(W_t,t\\geq 0)$ est un mouvement brownien. En particulier, pour tout temps $T$,\n",
    "$W_T$ est une gaussienne centrée de variance $T$.\n",
    "\n",
    "On considère le modèle de Black et Scholes :\n",
    "$$\n",
    "  S_t = S_0 \\exp\\left(\\left(r-\\frac{\\sigma^2}{2}\\right)t + \\sigma W_t\\right).\n",
    "$$\n",
    "On supposera dans la suite que $S_0=100$, \n",
    "$\\sigma=0.3$ (volatilité annuelle) et $r=0.05$ (taux d'intérêt\n",
    "exponentiel annuel).  \n",
    "\n",
    "**Problematique:**  \n",
    "On se place dans le cas des options européenne, et on cherche à calculer le prix d'un call de strike K$=100$ .  \n",
    "En d'autres thermes, calculer: $$C=\\mathbb{E}\\left[e^{-rT}(S_T-K)_+\\right]$$ \n",
    "On presente aussi le prix d'un put européen qu'on va utiliser dans ce qui suit, dont le prix et definie sous la probabilité risque neutre par: $$P=\\mathbb{E}\\left[e^{-rT}(k-S_T)_+\\right]$$  \n",
    "\n",
    "### Estimation du prix du call par une méthode M.C \n",
    "On va calculer le prix par une méthode de monte-carlo avec un nombre de tirages égaux à  $𝑁=1000$ , $10000$ , $100000$ . On précisera aussi l'intervalle de confiance."
   ]
  },
  {
   "cell_type": "code",
   "execution_count": 65,
   "id": "6e7cfbbb",
   "metadata": {},
   "outputs": [
    {
     "name": "stdout",
     "output_type": "stream",
     "text": [
      "Direct N = 100 : 13.62632786077517 +- 3.4374807939181613 Variance:  307.58731280081827\n",
      "Direct N = 1000 : 14.936600956979348 +- 1.3874233852692017 Variance:  501.07862609117336\n",
      "Direct N = 10000 : 14.25746297780172 +- 0.4377828222758465 Variance:  498.89056507654476\n",
      "Direct N = 100000 : 14.313801918891878 +- 0.13974098015824468 Variance:  508.3179283524296\n"
     ]
    }
   ],
   "source": [
    "T=1; # an\n",
    "S_0=100; \n",
    "r=0.05; # par an\n",
    "sigma=0.3; # par racine d'annee sigma^2 * T  est sans dimension\n",
    "K=100;\n",
    "\n",
    "def stdev(payoff):\n",
    "    return np.sqrt(np.var(payoff));\n",
    "\n",
    "def call(x,K):\n",
    "    return np.maximum(x-K*np.ones(np.size(x)),np.zeros(np.size(x)));\n",
    "\n",
    "def test_call(N):\n",
    "    W_T=np.sqrt(T)*np.random.normal(size=N);\n",
    "    S_T=S_0*np.exp((r-sigma**2/2)*T + sigma*W_T);\n",
    "    payoff=np.exp(-r*T) * call(S_T,K)\n",
    "\n",
    "    estimation=np.mean(payoff);  # estimation de la moyenne\n",
    "    ecart_type=stdev(payoff); # estimation de l'ecart type\n",
    "    erreur=1.96*ecart_type/np.sqrt(N); # demi-largeur de l'intervalle de confiance\n",
    "    print('Direct N =',N,':', estimation,'+-', erreur,'Variance: ',np.var(payoff));\n",
    "\n",
    "test_call(100);\n",
    "test_call(1000);\n",
    "test_call(10000);\n",
    "test_call(100000);\n"
   ]
  },
  {
   "cell_type": "markdown",
   "id": "a498210a",
   "metadata": {},
   "source": [
    "### Reduction de la variance du modèle\n",
    "\n",
    "  On va chercher à utiliser la variable aléatoire $S_T$ comme une\n",
    "  variable de contrôle.  \n",
    "  \n",
    "   **proposition:** $\\mathbb{E}[S_T]=S_0 e^{rT}$\n",
    "   \n",
    "   *Demonstration:*  \n",
    "  on a \n",
    "  $$\\mathbb{E}[S_T]=\\mathbb{E}\\left[S_0 \\exp\\left(\\left(r-\\frac{\\sigma^2}{2}\\right)T + \\sigma W_T\\right)\\right]$$\n",
    "  Donc\n",
    "  $$\\mathbb{E}[S_T]= S_0 e^{-rT}e^{-\\frac{\\sigma^{2}}{2}T}\\mathbb{E}\\left[ e^{\\sigma W_T}\\right]$$\n",
    "  \n",
    "  D'autre part, on a \n",
    "  $$e^{-\\frac{\\sigma^{2}}{2}T}\\mathbb{E}\\left[ e^{\\sigma W_T}\\right]=\\int_{\\mathbb{R}}e^{-\\frac{\\sigma^{2}}{2}T}e^{\\sigma w}\\frac{e^{-\\frac{w^2}{2T}}}{\\sqrt{2\\pi T}}\\,dw=1$$\n",
    "  Finalement on trouve que $\\mathbb{E}(S_T)=S_0 e^{rT}$\n",
    "  \n",
    "  **Remarques:**  \n",
    "  \n",
    "  **1.** On a la relation call-put suivante:\n",
    "  $$C-P=\\mathbb{E}\\left[e^{-rT}(S_T-K)\\right]=S_0-Ke^{-rT}$$\n",
    "  Donc $$C=P+S_0-Ke^{-rT}$$\n",
    "  \n",
    "   On va alors écrire un programme qui utilise $S_T$ comme variable de contrôle, on se ramène alors à calculer $P=\\mathbb{E}\\left[e^{-rT}(k-S_T)_+\\right]$ par la méthode Monte Carlo, et comparer la précision de cette méthode avec la précédente suivant les valeur relative de $K$ et $S_0$, ainsi que vérrifier qu'on a bien diminuer la variance de notre modèle.\n"
   ]
  },
  {
   "cell_type": "code",
   "execution_count": 66,
   "id": "891b4efe",
   "metadata": {},
   "outputs": [
    {
     "name": "stdout",
     "output_type": "stream",
     "text": [
      "Direct N = 10000 : 0.18819659537462075 +- 0.04927814723893156 Variance:  6.321157318049301\n",
      "CallPut N= 10000 :  0.07464818408414986 +- 0.5833004181137934 Variance:  885.6710166902494\n",
      "Direct N = 10000 : 2.140405728610589 +- 0.1926223230056372 Variance:  96.5830886091421\n",
      "CallPut N= 10000 :  1.7699532872870571 +- 0.5069878407685545 Variance:  669.0875434380499\n",
      "Direct N = 10000 : 13.906571734238751 +- 0.43233428794083556 Variance:  486.5497098326462\n",
      "CallPut N= 10000 :  14.33331445553126 +- 0.2554210623096318 Variance:  169.8248622224615\n",
      "Direct N = 10000 : 26.163300200614827 +- 0.5348637310686614 Variance:  744.6876583004198\n",
      "CallPut N= 10000 :  26.46364133955948 +- 0.12419782415843908 Variance:  40.152799681618475\n",
      "Direct N = 10000 : 43.07543280438092 +- 0.5810803635164048 Variance:  878.9420784682349\n",
      "CallPut N= 10000 :  43.20117746034692 +- 0.03346648133549066 Variance:  2.915465881348253\n"
     ]
    }
   ],
   "source": [
    "T=1; # an\n",
    "S_0=100; \n",
    "r=0.05;\n",
    "sigma=0.3; \n",
    "K=100;\n",
    "\n",
    "def put(x,K):\n",
    "    return np.maximum(K*np.ones(np.size(x))-x,np.zeros(np.size(x)));\n",
    "\n",
    "def test_call_arbitrage(N):\n",
    "# C-P = S_0 - K exp(-rT)\n",
    "# On peut donc construire un nouvel estimateur\n",
    "# S_0 - K exp(-rT) + exp(-rT) * (K-S_T)_+\n",
    "\n",
    "    W_T=np.sqrt(T)*np.random.normal(size=N);\n",
    "    S_T=S_0*np.exp((r-sigma**2/2)*T + sigma*W_T);\n",
    "    payoff=np.exp(-r*T) * put(S_T,K)+S_0-K*np.exp(-r*T)\n",
    "    \n",
    "    estimation=np.mean(payoff);  # estimation de la moyenne\n",
    "    ecart_type=stdev(payoff); # estimation de l'ecart type\n",
    "    erreur=1.96*ecart_type/np.sqrt(N); # demi-largeur de l'intervalle de confiance\n",
    "    \n",
    "\n",
    "    print(\"CallPut N=\",N,\": \", estimation, \"+-\", erreur,'Variance: ',np.var(payoff));\n",
    "\n",
    "K=200;test_call(10000);test_call_arbitrage(10000);\n",
    "K=150;test_call(10000);test_call_arbitrage(10000);\n",
    "K=100;test_call(10000);test_call_arbitrage(10000);\n",
    "K= 80;test_call(10000);test_call_arbitrage(10000);\n",
    "K= 60;test_call(10000);test_call_arbitrage(10000);"
   ]
  },
  {
   "cell_type": "markdown",
   "id": "de609d7e",
   "metadata": {},
   "source": [
    "**Récapitulatif:**  \n",
    "Aprés la réalisation des tests on obtient les resultats numerique suivants:\n",
    "\n",
    "|  méthode |Strike K |resultats| Intervalle  confiance |   K/S_0  | Variance |\n",
    "|----------|---------|---------|-----------------------|----------|----------|\n",
    "| Directe  |   200   |  0.20   |      +- 0.0625        |      2   |   10.194 |  \n",
    "| Call-put |   200   |  0.056  |      +- 0.5872        |      2   |  897.805 |\n",
    "|          |         |         |                       |          |          |\n",
    "| Directe  |   150   |  2.1576 |      +- 0.1789        |    1.5   |   83.350 |\n",
    "| Call-put |   150   |  2.333  |      +- 0.5109        |    1.5   |   679.52 |\n",
    "|          |         |         |                       |          |          |\n",
    "| Directe  |   100   |  14.330 |      +- 0.4353        |      1   |  493.331 |\n",
    "| Call-put |   100   |  14.296 |      +- 0.2534        |      1   |  167.237 |\n",
    "|          |         |         |                       |          |          |\n",
    "| Directe  |    80   |  26.296 |      +- 0.5416        |    0.8   |  763.634 |\n",
    "| Call-put |    80   |  26.394 |      +- 0.1232        |    0.8   |  167.237 |\n",
    "|          |         |         |                       |          |          |\n",
    "| Directe  |    60   |  43.063 |      +- 0.5843        |    0.6   |  888.833 |\n",
    "| Call-put |    60   |  43.203 |      +- 0.0331        |    0.6   |   2.8587 |\n",
    "\n",
    "**Remarque:** On remarque qu'on a réussi a baisser la variance de notre éstimateur avec notre variable de contrôle sous la condition :$\\frac{K}{S_0}\\leq 1$"
   ]
  },
  {
   "cell_type": "markdown",
   "id": "1a1f1ffb",
   "metadata": {},
   "source": [
    "# Partie II: Cas particulier du théorème de Perron-Frobenius.  \n",
    "   Dans cette partie on va s'intérésser au matrices stochastiques strictement positives et a leur meusure invariante. \n",
    "\n",
    "## Mèthode de la puissance \n",
    "\n",
    "   On aura besoin du lemme suivant pour retrouver **le vecteur de Perron**.  \n",
    "   \n",
    "**Lemme:**  \n",
    "Soit $A\\in \\mathcal{M}_n(\\mathbb{R})$ une matrice stochastique strictement positive, et soit $p\\in\\mathbb{R}^n$ l'unique vecteur propre associé à la valeur propre $1$ de $A^t$ et tel que $\\mid\\mid p\\mid\\mid_1=1$. Alors, \n",
    "\n",
    "$$\\lim_{k\\to\\infty}A^k=\\textbf{1}.p^t$$\n",
    "Ou $\\textbf{1}$ est le veteur dont toutes les composantes sont égales a $1$.  \n",
    "  \n",
    "*On va alors utiliser ce lemme pour implementer notre algorithme et garder le résultat pour des comparaisons dans ce qui suit :)*\n",
    "\n"
   ]
  },
  {
   "cell_type": "code",
   "execution_count": null,
   "id": "c52ab47c",
   "metadata": {},
   "outputs": [],
   "source": []
  },
  {
   "cell_type": "code",
   "execution_count": 78,
   "id": "9ea8a611",
   "metadata": {},
   "outputs": [
    {
     "name": "stdout",
     "output_type": "stream",
     "text": [
      "[[0.33116897 0.15328443 0.17633998 0.07462548 0.26458114]\n",
      " [0.33116897 0.15328443 0.17633998 0.07462548 0.26458114]\n",
      " [0.33116897 0.15328443 0.17633998 0.07462548 0.26458114]\n",
      " [0.33116897 0.15328443 0.17633998 0.07462548 0.26458114]\n",
      " [0.33116897 0.15328443 0.17633998 0.07462548 0.26458114]]\n",
      "[[0.33116897]\n",
      " [0.15328443]\n",
      " [0.17633998]\n",
      " [0.07462548]\n",
      " [0.26458114]]\n"
     ]
    }
   ],
   "source": [
    "n = 5\n",
    "\n",
    "A = np.random.rand(n,n)\n",
    "\n",
    "\n",
    "Normal = [sum([A[i][j] for j in range(n)]) for i in range(n)]\n",
    "A = np.mat([[A[i][j]/Normal[i] for j in range(n)] for i in range(n)])\n",
    "\n",
    "\n",
    "\n",
    "P = A.copy()\n",
    "for i in range(1000):\n",
    "    P = P*A;\n",
    "\n",
    "print(P)\n",
    "\n",
    "Q = A.transpose()\n",
    "\n",
    "b = np.array([1./n for _ in range(n)]).reshape((n,1))\n",
    "for i in range(1000):\n",
    "    b = Q*b\n",
    "\n",
    "\n",
    "perron=b\n",
    "print(perron)"
   ]
  },
  {
   "cell_type": "markdown",
   "id": "0fb53798",
   "metadata": {},
   "source": [
    "## Markov chain Monte Carlo:\n",
    "\n",
    "Le fait que $\\mid\\mid p\\mid\\mid_1=1$ nous pérmet de voir le vécteur de Perron comme mesure de probabilité discrète.  \n",
    "En effet, c'est la mesure invariante de la matrice stochastique $A$. \n",
    "  \n",
    "**Remarque:** La probabilité stationnaire $\\pi =(\\pi _{i})_{i\\in E}$ d'une chaîne de Markov ${\\displaystyle X=(X_{n})_{n\\geq 0}}$ s'interprète usuellement comme la fraction du temps passé en chaque état ${\\displaystyle i}$ de l'espace d'états ${\\displaystyle E}$ de cette chaîne de Markov, asymptotiquement. En effet, une version de la loi forte des grands nombres pour les chaînes de Markov stipule que :\n",
    "$$\\pi_i=\\lim_{n\\to\\infty}\\frac{1}{n}\\sum_{k=1}^{n}\\textbf{1}_{\\{X_k=i\\}}$$  \n",
    "  \n",
    "**Idée de l'algorithme:**  \n",
    "notre objectif est d'estimer par simulation mesure invariante de la matrice stochastique précédente, on va alors procéder de la manière suivante:  \n",
    "\n",
    "   ***Etape 1 :*** On simule $N=1000$ fois les $T=50$ premiers états de la chaine.  \n",
    "    $\\;\\;\\;\\;\\;\\;$   pour cela on simule $X_0$ selon n'mporte quelle loi, et le théorème érgodique nous permet d'etre sûr que la chaine q'uon $\\;\\;\\;\\;\\;\\;$ va construire aura le vecteur de Perron comme mesure invariante. \n",
    "  On va la construire comme suit:  \n",
    "  $\\;\\;\\;\\;\\;\\;$ $\\forall i\\in \\{1,...,T\\}\\text{,}$ on simule $X_{i+1}$ selon la loi de la $X_i$-éme ligne de notre matrice $A$ \n",
    "    \n",
    "  ***Etape 2 :*** On trace l'histograme de la fréquence des visites de chaques états, en d'autres mots:   \n",
    "  $\\;\\;\\;\\;\\;\\;$ la proportion de temps passer dans chaque états ( ie: L'histograme des $N$ $\\frac{1}{T}\\sum^T 1_{(X_k = i)}$ ).  \n",
    "  ***Etape 3 :*** On compare sur la figure, la mesure invariante, qui n'est rien que les hauteurs des piques de l'histograme,avec le vecteur de Perron sur un beau graphique.  \n",
    "  \n",
    "  ***Etape 4:*** On visualise la convergence de la moyenne des temps passés dans chaque état, pour cela on fait la proportion de visite sur chaque instant $t\\leq T$ des $N$ simulations.  \n",
    "  \n",
    "  **Remarque:**  \n",
    "  On pourrait améliorer le code en retenant la dernière position de la chaîne et renvoyer a chaque $n\\leq N$ la chaîne avec probabilité initiale la celle de l’état qu'on a retenue.  "
   ]
  },
  {
   "cell_type": "code",
   "execution_count": 79,
   "id": "7d87c8f7",
   "metadata": {},
   "outputs": [],
   "source": [
    "def mc_trajectoire(mu,M,T):\n",
    "    #Initialisation\n",
    "    n=M.shape[0]\n",
    "    if(mu.shape[0]==n):\n",
    "        traj=np.zeros(T,dtype=int)\n",
    "        choices=np.arange(n,dtype=int)\n",
    "        traj[0]=np.random.choice(n, 1,p=mu)\n",
    "        \n",
    "        for i in range(T-1):\n",
    "            mui=np.array(M[traj[i],:])\n",
    "            traj[i+1] = np.random.choice(choices,1,p=mui[0])\n",
    "    \n",
    "    return traj"
   ]
  },
  {
   "cell_type": "code",
   "execution_count": 81,
   "id": "7a4c3ef6",
   "metadata": {},
   "outputs": [
    {
     "name": "stdout",
     "output_type": "stream",
     "text": [
      "[[0 4 4 ... 4 2 1]\n",
      " [2 0 3 ... 1 2 3]\n",
      " [1 3 1 ... 0 4 4]\n",
      " ...\n",
      " [2 3 3 ... 1 4 0]\n",
      " [1 3 3 ... 0 0 4]\n",
      " [1 2 1 ... 0 4 2]]\n"
     ]
    }
   ],
   "source": [
    "R = 10000\n",
    "T = 50\n",
    "\n",
    "state_space = np.arange(A.shape[0])\n",
    "\n",
    "names = ('1', '2', '3', '4','5')\n",
    "mu = np.random.random(A.shape[0])\n",
    "mu /= mu.sum()\n",
    "trajs = np.array([mc_trajectoire(mu,A,T) for i in range(R)])\n",
    "print(trajs)"
   ]
  },
  {
   "cell_type": "code",
   "execution_count": 83,
   "id": "bd725ae0",
   "metadata": {},
   "outputs": [],
   "source": [
    "def trace_proportion_temps_passe(espace_detat, trajs, mesure_inv=None, noms_etats=None, ax=None):\n",
    "    \n",
    "    if ax is None:\n",
    "        fig, ax = plt.subplots(figsize=(7,5))\n",
    "    ticks = espace_detat\n",
    "    if noms_etats is None:\n",
    "        noms_etats = espace_detat\n",
    "    plt.hist(trajs.flat, density=True, bins=[0,1,2,3,4,5], color='g', edgecolor='red', label = r'$\\frac{1}{T}\\sum^T 1_{(X_k = i)}$')\n",
    "    if mesure_inv is not None:\n",
    "        ax.hlines(mesure_inv, -1,len(state_space),colors='C0',label='vecteur de Perron')\n",
    "    ax.set(xlabel='État',title=r'$\\frac{1}{T}\\sum^T 1_{(X_k = i)}$',\n",
    "           xticks=state_space,xticklabels=noms_etats)\n",
    "    plt.legend()\n"
   ]
  },
  {
   "cell_type": "code",
   "execution_count": 84,
   "id": "3436cdac",
   "metadata": {},
   "outputs": [
    {
     "name": "stdout",
     "output_type": "stream",
     "text": [
      "[0.325686 0.158576 0.176768 0.0783   0.26067 ]\n"
     ]
    },
    {
     "data": {
      "image/png": "[encoded data removed]",
      "text/plain": [
       "<Figure size 504x360 with 1 Axes>"
      ]
     },
     "metadata": {
      "needs_background": "light"
     },
     "output_type": "display_data"
    }
   ],
   "source": [
    "proportions = np.array([ np.sum(trajs==i) for i in state_space])/trajs.size \n",
    "print(proportions)\n",
    "trace_proportion_temps_passe(state_space,\n",
    " trajs,\n",
    "mesure_inv=perron,\n",
    " noms_etats=names)\n"
   ]
  },
  {
   "cell_type": "code",
   "execution_count": 75,
   "id": "1616a1c0",
   "metadata": {},
   "outputs": [],
   "source": [
    "def trace_convergence_temps_passe(trajs, noms, mesure_inv, mu,ax=None):\n",
    "    proportions = np.array([np.array([(trajs[0,:t]==i).sum()/(trajs[0,:t]).size for i in state_space])\n",
    "                            for t in range(1,trajs.shape[1])])\n",
    "\n",
    "    if ax is None:\n",
    "        fig, ax = plt.subplots(figsize=(16,4))\n",
    "    for i,name in enumerate(names):\n",
    "        plt.plot(proportions[:,i],label=name)\n",
    "    ax.hlines(mesure_inv,0,trajs.shape[1],linestyle=':',color=('C0','C1','C2','C3','C4'),label='Perron')\n",
    "    ax.hlines(mu,0,trajs.shape[1],linestyle='-.',linewidth=1,color=('C0','C1','C2','C3','C4'),label='Mesure initiale')\n",
    "    ax.set(xlabel='Temps',ylabel='Proportion du temps passé',ylim=(0,1),xlim=(0,trajs.shape[1]),title=r'Convergence de $\\frac{1}{T}\\sum^T 1_{(X_k = i)}$')\n",
    "    ax.legend()"
   ]
  },
  {
   "cell_type": "markdown",
   "id": "959bb9a9",
   "metadata": {},
   "source": []
  },
  {
   "cell_type": "code",
   "execution_count": 85,
   "id": "a7fb9766",
   "metadata": {},
   "outputs": [
    {
     "data": {
      "image/png": "[encoded data removed]",
      "text/plain": [
       "<Figure size 1152x288 with 1 Axes>"
      ]
     },
     "metadata": {
      "needs_background": "light"
     },
     "output_type": "display_data"
    }
   ],
   "source": [
    "trace_convergence_temps_passe(trajs,names, perron, mu)"
   ]
  },
  {
   "cell_type": "code",
   "execution_count": null,
   "id": "22a98a79",
   "metadata": {},
   "outputs": [],
   "source": []
  }
 ],
 "metadata": {
  "kernelspec": {
   "display_name": "Python 3",
   "language": "python",
   "name": "python3"
  },
  "language_info": {
   "codemirror_mode": {
    "name": "ipython",
    "version": 3
   },
   "file_extension": ".py",
   "mimetype": "text/x-python",
   "name": "python",
   "nbconvert_exporter": "python",
   "pygments_lexer": "ipython3",
   "version": "3.8.8"
  }
 },
 "nbformat": 4,
 "nbformat_minor": 5
}
